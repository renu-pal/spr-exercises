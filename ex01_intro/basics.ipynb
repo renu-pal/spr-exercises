{
 "cells": [
  {
   "cell_type": "markdown",
   "id": "22fe7b1a",
   "metadata": {},
   "source": [
    "# Basics\n",
    "\n",
    "## Numpy\n",
    "\n",
    "You will now play around with some basics of tensor manipulation in numpy. The basic object in numpy is a homogeneous multidimensional array. Numpy's array class is called `ndarray`. Checkout the [quickstart tutorial](https://numpy.org/devdocs/user/quickstart.html).\n",
    "\n",
    "First, we import the numpy package."
   ]
  },
  {
   "cell_type": "code",
   "execution_count": null,
   "id": "5761e8fc",
   "metadata": {},
   "outputs": [],
   "source": [
    "import numpy as np\n"
   ]
  },
  {
   "cell_type": "markdown",
   "id": "cb76ae41",
   "metadata": {},
   "source": [
    "Let\u2019s create two matrices and check their properties."
   ]
  },
  {
   "cell_type": "code",
   "execution_count": null,
   "id": "8e6717da",
   "metadata": {},
   "outputs": [],
   "source": [
    "A = np.array(np.arange(6))\n",
    "B = np.array([-1, 3])\n",
    "print(f\"A (shape: {A.shape}, type: {type(A)}) = {A}\")\n",
    "print(f\"B (shape: {B.shape}, type: {type(B)}) = {B}\")\n"
   ]
  },
  {
   "cell_type": "markdown",
   "id": "6c9e0ed1",
   "metadata": {},
   "source": [
    "**Explanation:** First, 2 arrays (also called tensors) are created. Each numpy tensor has an attribute `numpy.ndarray.shape` which describes the dimensions of the defined tensor. Type, shape and content of the tensors are the first output of the script.\n",
    "\n",
    "Please note how we are using [f-strings](https://realpython.com/python-f-strings/#f-strings-a-new-and-improved-way-to-format-strings-in-python) to output variables.\n",
    "\n",
    "Next, we try to multiply the two tensors with [np.matmul](https://docs.scipy.org/doc/numpy/reference/generated/numpy.matmul.html). The dimensions of the matrices are incompatible, so we get an error."
   ]
  },
  {
   "cell_type": "code",
   "execution_count": null,
   "id": "7df69b59",
   "metadata": {},
   "outputs": [],
   "source": [
    "print(f\"A={A}\\nB={B}\\n\")\n",
    "try:\n",
    "    np.matmul(A, B)\n",
    "except ValueError as e:\n",
    "    print(f\"Operation failed: {e}\")\n"
   ]
  },
  {
   "cell_type": "markdown",
   "id": "f341943b",
   "metadata": {},
   "source": [
    "We get a *ValueError* due to the shape mismatch between the two numpy arrays we want to multiply. \n",
    "\n",
    "In order to deal with different array shapes during arithmetic operations, we can either [reshape](https://docs.scipy.org/doc/numpy/reference/generated/numpy.reshape.html) the arrays or [broadcast](https://docs.scipy.org/doc/numpy/user/theory.broadcasting.html#array-broadcasting-in-numpy) the smaller array across the larger one such that they have compatible shapes."
   ]
  },
  {
   "cell_type": "code",
   "execution_count": null,
   "id": "117c1b72",
   "metadata": {},
   "outputs": [],
   "source": [
    "C = A.reshape([3, 2])\n",
    "print(f\"C={C}\\nshape: {C.shape}\")\n"
   ]
  },
  {
   "cell_type": "markdown",
   "id": "659159ee",
   "metadata": {},
   "source": [
    "Now the matrix multiplication $CB$ works out."
   ]
  },
  {
   "cell_type": "code",
   "execution_count": null,
   "id": "72b436e3",
   "metadata": {},
   "outputs": [],
   "source": [
    "print(f\"C={C}\\nB={B}\\n\")\n",
    "matmul_result = np.matmul(C, B)\n",
    "print(matmul_result)\n"
   ]
  },
  {
   "cell_type": "markdown",
   "id": "78a20379",
   "metadata": {},
   "source": [
    "Let's do matrix addition with [np.add](https://numpy.org/doc/stable/reference/generated/numpy.add.html) which can also be done by using `+`. \n",
    "When adding $C$ with shape $(3,2)$ and $B$ with shape $(2,)$, $B$ will be automatically broadcast to match the shape of $C$ by repeating it over 3 rows to $(3,2)$"
   ]
  },
  {
   "cell_type": "code",
   "execution_count": null,
   "id": "f8204263",
   "metadata": {},
   "outputs": [],
   "source": [
    "print(C + B)\n"
   ]
  },
  {
   "cell_type": "markdown",
   "id": "e589632e",
   "metadata": {},
   "source": [
    "The star operator $*$ will do an element-wise multiplication ([np.multiply](https://numpy.org/doc/stable/reference/generated/numpy.multiply.html)) between $C$ and $B$. Again, $B$ will be broadcasted to fit."
   ]
  },
  {
   "cell_type": "code",
   "execution_count": null,
   "id": "ca017b09",
   "metadata": {},
   "outputs": [],
   "source": [
    "print(C * B)\n"
   ]
  },
  {
   "cell_type": "markdown",
   "id": "186f5350",
   "metadata": {},
   "source": [
    "The function [np.diag](https://numpy.org/doc/stable/reference/generated/numpy.diag.html) can transform the vector $B$ shaped $(2,)$ into a diagonal matrix of shape $(2,2)$"
   ]
  },
  {
   "cell_type": "code",
   "execution_count": null,
   "id": "d18c6c74",
   "metadata": {},
   "outputs": [],
   "source": [
    "print(f\"B={B}\\n\")\n",
    "print(np.diag(B))\n"
   ]
  },
  {
   "cell_type": "markdown",
   "id": "58c1ab63",
   "metadata": {},
   "source": [
    "For transposing a ndarray use [np.transpose](https://docs.scipy.org/doc/numpy/reference/generated/numpy.transpose.html) or `my_array.T`"
   ]
  },
  {
   "cell_type": "code",
   "execution_count": null,
   "id": "411ed2aa",
   "metadata": {},
   "outputs": [],
   "source": [
    "print(f\"C={C}\\n\")\n",
    "print(np.transpose(C))\n"
   ]
  },
  {
   "cell_type": "markdown",
   "id": "0dd6552b",
   "metadata": {},
   "source": [
    "[Indexing operations](https://numpy.org/doc/stable/user/basics.indexing.html#basics-indexing) are used to select parts of the tensor."
   ]
  },
  {
   "cell_type": "code",
   "execution_count": null,
   "id": "b2ab3994",
   "metadata": {},
   "outputs": [],
   "source": [
    "print(f\"C={C}\\n\")\n",
    "print(C[0])  # select row 0\n",
    "print(C[0, 0])  # select row 0, column 0\n",
    "print(C[:, 0])  # select all rows, column 0\n"
   ]
  },
  {
   "cell_type": "markdown",
   "id": "e2f94190",
   "metadata": {},
   "source": [
    "Tensor operations are a central part of the exercises.\n",
    "Play around with the notebook to get familiar with them.\n",
    "\n",
    "**Note:** For-loops in python are usually too slow, use vectorized numpy expressions instead.\n",
    "\n",
    "**Slow** sum in python:"
   ]
  },
  {
   "cell_type": "code",
   "execution_count": null,
   "id": "30a1d59d",
   "metadata": {},
   "outputs": [],
   "source": [
    "%%timeit -r 1 -n 1\n",
    "total = 0\n",
    "for i in range(1000000):\n",
    "    total += i ** 2\n"
   ]
  },
  {
   "cell_type": "markdown",
   "id": "4cae0577",
   "metadata": {},
   "source": [
    "**Fast** sum by letting numpy do the math. Note that we need the datatype `np.int64` to use integers that are large enough to store the result. The square and sum operations are vectorized and run in fast C code internally."
   ]
  },
  {
   "cell_type": "code",
   "execution_count": null,
   "id": "f5d30733",
   "metadata": {},
   "outputs": [],
   "source": [
    "%%timeit -r 1 -n 1\n",
    "numbers = np.arange(1000000, dtype=np.int64)\n",
    "total = (numbers ** 2).sum()\n"
   ]
  },
  {
   "cell_type": "markdown",
   "id": "f22c3fff",
   "metadata": {},
   "source": [
    "## Plotting\n",
    "\n",
    "In the exercises you will use [matplotlib](https://matplotlib.org/) to visualize data.\n",
    "\n",
    "Let's create some gaussian random data first:"
   ]
  },
  {
   "cell_type": "code",
   "execution_count": null,
   "id": "188d3746",
   "metadata": {},
   "outputs": [],
   "source": [
    "data_2d = np.random.randn(1000, 2)\n"
   ]
  },
  {
   "cell_type": "markdown",
   "id": "c42c024f",
   "metadata": {},
   "source": [
    "We created a tensor with 1000 rows for our datapoints and 2 columns for an x- and y-axis position. Now we can plot it:"
   ]
  },
  {
   "cell_type": "code",
   "execution_count": null,
   "id": "8692ad7a",
   "metadata": {},
   "outputs": [],
   "source": [
    "from matplotlib import pyplot as plt\n",
    "\n",
    "# increase the font size for all plots in the notebook\n",
    "plt.rc('font', size=16)\n",
    "\n",
    "# create a figure that is bigger than the default size\n",
    "plt.figure(figsize=(12,8))\n",
    "\n",
    "# create the scatterplot\n",
    "plt.scatter(data_2d[:, 0], data_2d[:, 1], label=\"The data\")\n",
    "\n",
    "# set axis labels\n",
    "plt.xlabel(\"x-axis\")\n",
    "plt.ylabel(\"y-axis\")\n",
    "\n",
    "# display a grid and legend\n",
    "plt.grid()\n",
    "plt.legend()\n",
    "\n",
    "# show the plot\n",
    "plt.show()\n"
   ]
  },
  {
   "cell_type": "markdown",
   "id": "72ff6227",
   "metadata": {},
   "source": [
    "Instead of a scatter plot, we can also do a line plot:"
   ]
  },
  {
   "cell_type": "code",
   "execution_count": null,
   "id": "ba6f4508",
   "metadata": {},
   "outputs": [],
   "source": [
    "x = np.arange(100)\n",
    "y = np.random.randn(100)\n",
    "\n",
    "plt.figure(figsize=(12,8))\n",
    "plt.plot(x, y, \"X-\", label=\"A sequence\")\n",
    "plt.xlabel(\"Step\")\n",
    "plt.ylabel(\"Value\")\n",
    "plt.grid()\n",
    "plt.legend()\n",
    "plt.show()\n"
   ]
  },
  {
   "cell_type": "code",
   "execution_count": null,
   "id": "28904a42",
   "metadata": {},
   "outputs": [],
   "source": []
  }
 ],
 "metadata": {
  "kernelspec": {
   "display_name": "Python 3 (ipykernel)",
   "language": "python",
   "name": "python3"
  },
  "language_info": {
   "codemirror_mode": {
    "name": "ipython",
    "version": 3
   },
   "file_extension": ".py",
   "mimetype": "text/x-python",
   "name": "python",
   "nbconvert_exporter": "python",
   "pygments_lexer": "ipython3",
   "version": "3.10.14"
  }
 },
 "nbformat": 4,
 "nbformat_minor": 5
}