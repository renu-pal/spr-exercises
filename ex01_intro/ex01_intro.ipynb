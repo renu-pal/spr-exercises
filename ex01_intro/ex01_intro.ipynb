{
 "cells": [
  {
   "cell_type": "markdown",
   "metadata": {},
   "source": [
    "# Statistical Pattern Recognition - Exercise 1: Introduction"
   ]
  },
  {
   "cell_type": "code",
   "execution_count": null,
   "metadata": {},
   "outputs": [],
   "source": [
    "%matplotlib inline\n",
    "import numpy as np\n",
    "import matplotlib.pyplot as plt\n",
    "from pathlib import Path\n",
    "\n",
    "data_dir = Path('../data')\n"
   ]
  },
  {
   "cell_type": "markdown",
   "metadata": {},
   "source": [
    "## $\\star$ Part 1: Pen and paper exercise\n",
    "\n",
    "Suppose we have three colored boxes r (red), b (blue), and g (green).\n",
    "Box r contains 3 apples, 4 oranges, and 3 limes,\n",
    "box b contains 1 apple, 1 orange and no limes,\n",
    "and box g contains 3 apples, 3 oranges, and 4 limes.\n",
    "A box is chosen at random with probabilities p(r) = 0.2, p(b) = 0.2, p(g) = 0.6\n",
    "and a piece of fruit is removed from the box with equal probability of selecting any of the items in the box.\n",
    "\n",
    "1. What is the probability of selecting an apple?\n",
    "2. If we observe that the selected fruit is in fact an orange, what is the probability that it came from the\n",
    "green box?\n"
   ]
  },
  {
   "cell_type": "markdown",
   "metadata": {},
   "source": [
    "## $\\star$ Part 2: Matrices\n",
    "\n",
    "**Note:** Complete the introduction to `numpy` and `matplotlib` in the `basics.ipynb` notebook first.\n",
    "\n",
    "### Part 2.1: Define a matrix and a vector and compute the result of a matrix-vector multiplication\n"
   ]
  },
  {
   "cell_type": "code",
   "execution_count": null,
   "metadata": {},
   "outputs": [],
   "source": [
    "# START TODO #################\n",
    "raise NotImplementedError\n",
    "# END TODO ###################\n"
   ]
  },
  {
   "cell_type": "markdown",
   "metadata": {},
   "source": [
    "### Part 2.2: Invert the matrix"
   ]
  },
  {
   "cell_type": "code",
   "execution_count": null,
   "metadata": {},
   "outputs": [],
   "source": [
    "# START TODO #################\n",
    "raise NotImplementedError\n",
    "# END TODO ###################\n"
   ]
  },
  {
   "cell_type": "markdown",
   "metadata": {},
   "source": [
    "### Part 2.3: Plot the gaussian data\n",
    "\n",
    "**Note:** Datasets are stored in the npz format, see [numpy.load](https://numpy.org/doc/stable/reference/generated/numpy.load.html)"
   ]
  },
  {
   "cell_type": "code",
   "execution_count": null,
   "metadata": {},
   "outputs": [],
   "source": [
    "# START TODO #################\n",
    "raise NotImplementedError\n",
    "# END TODO ###################\n"
   ]
  },
  {
   "cell_type": "markdown",
   "metadata": {},
   "source": [
    "### Part 2.4: Plot the gaussianplus data"
   ]
  },
  {
   "cell_type": "code",
   "execution_count": null,
   "metadata": {},
   "outputs": [],
   "source": [
    "# START TODO #################\n",
    "raise NotImplementedError\n",
    "# END TODO ###################\n"
   ]
  },
  {
   "cell_type": "code",
   "execution_count": null,
   "metadata": {
    "collapsed": false,
    "jupyter": {
     "outputs_hidden": false
    }
   },
   "outputs": [],
   "source": []
  },
  {
   "cell_type": "code",
   "execution_count": null,
   "metadata": {},
   "outputs": [],
   "source": []
  },
  {
   "cell_type": "code",
   "execution_count": null,
   "metadata": {},
   "outputs": [],
   "source": []
  }
 ],
 "metadata": {
  "kernelspec": {
   "display_name": "Python 3 (ipykernel)",
   "language": "python",
   "name": "python3"
  },
  "language_info": {
   "codemirror_mode": {
    "name": "ipython",
    "version": 3
   },
   "file_extension": ".py",
   "mimetype": "text/x-python",
   "name": "python",
   "nbconvert_exporter": "python",
   "pygments_lexer": "ipython3",
   "version": "3.10.14"
  }
 },
 "nbformat": 4,
 "nbformat_minor": 4
}
