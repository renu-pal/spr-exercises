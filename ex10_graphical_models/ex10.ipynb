{
 "cells": [
  {
   "cell_type": "markdown",
   "metadata": {},
   "source": [
    "# Statistical Pattern Recognition - Exercise 10: Inference in graphical models"
   ]
  },
  {
   "cell_type": "code",
   "execution_count": null,
   "metadata": {},
   "outputs": [],
   "source": [
    "import numpy as np\n",
    "import matplotlib.pyplot as plt\n",
    "from PIL import Image\n",
    "from matplotlib.pyplot import imshow\n",
    "import time\n",
    "%matplotlib inline\n"
   ]
  },
  {
   "cell_type": "markdown",
   "metadata": {},
   "source": [
    "## $\\star$ $\\star$  Part 1: Message passing for disparity estimation\n",
    "\n",
    "Implement the message passing method in the disparity estimation setting. Each pixel can take 16 labels (disparities in the Tsukuba pair range from 0 to 15).\n",
    "\n",
    "For the unary cost take the Euclidean distance between the pixel colors in the two images. For each pixel in the left image, you must compute 16 costs corresponding to the 16 disparity options.\n",
    "\n",
    "Consider the image as an undirected graph, where all pixels are connected only to their direct left and right neighbor. For the pairwise potential use the Potts model (`0` cost if the disparity is the same, `LAMBDA` else). \n",
    "\n",
    "Run the message passing algorithm to find the solution with the highest probability. Visualize this result and play with the parameter `LAMBDA`.\n"
   ]
  },
  {
   "cell_type": "markdown",
   "metadata": {},
   "source": [
    "### Load and visualize input images\n"
   ]
  },
  {
   "cell_type": "code",
   "execution_count": null,
   "metadata": {},
   "outputs": [],
   "source": [
    "imgL = np.array(Image.open(\"../data/tsukubaL.ppm\"))\n",
    "imgR = np.array(Image.open(\"../data/tsukubaR.ppm\"))\n"
   ]
  },
  {
   "cell_type": "code",
   "execution_count": null,
   "metadata": {},
   "outputs": [],
   "source": [
    "plt.title(\"ImageL\")\n",
    "plt.imshow(imgL)\n",
    "plt.axis('off')\n",
    "plt.show()\n",
    "plt.title(\"ImageR\")\n",
    "plt.imshow(imgR)\n",
    "plt.axis('off')\n"
   ]
  },
  {
   "cell_type": "markdown",
   "metadata": {},
   "source": [
    "### Disparity estimation via message passing\n"
   ]
  },
  {
   "cell_type": "code",
   "execution_count": null,
   "metadata": {},
   "outputs": [],
   "source": [
    "MAX_DISP = 16\n",
    "LAMBDA = 100.0\n",
    "\n",
    "class Timer():\n",
    "    def __init__(self):\n",
    "        self.start = None\n",
    "        self.end = None\n",
    "\n",
    "    def __enter__(self):\n",
    "        self.start = time.time()\n",
    "        return self\n",
    "\n",
    "    def __exit__(self, exc_type, exc_value, exc_traceback):\n",
    "        self.end = time.time()\n",
    "        print('elasped secs: {:.2f}'.format(self.end - self.start))\n",
    "\n",
    "\n",
    "def compute_unary_costs(imgL, imgR, max_disp=MAX_DISP):\n",
    "    \"\"\"\n",
    "    Computes unary costs for disparity matching between two images.\n",
    "\n",
    "    Args:\n",
    "        imgL: Left image as numpy array with shape (h,w,3).\n",
    "        imgL: Right image as numpy array with shape (h,w,3).\n",
    "        max_disp: Maximal considered disparity.\n",
    "\n",
    "    Returns:\n",
    "        Unary costs for all considered disparities as numpy array of shape (h,w,max_disp).\n",
    "    \"\"\"\n",
    "    h, w, _ = imgL.shape\n",
    "    cost = np.zeros((h,w, max_disp))\n",
    "    # START TODO ################\n",
    "    # Compute unary costs\n",
    "    raise NotImplementedError\n",
    "    # END TODO ################\n",
    "    return cost\n",
    "\n",
    "\n",
    "def potts_model(d1, d2, l=LAMBDA):\n",
    "    \"\"\"\n",
    "    Computes the potts model cost for a pair of disparity values.\n",
    "    \"\"\"\n",
    "    if d1 == d2:\n",
    "        return 0.\n",
    "    else:\n",
    "        return l\n",
    "\n",
    "\n",
    "def compute_msg_fwd(unary_costs, max_disp=MAX_DISP):\n",
    "    \"\"\"\n",
    "    Computes pairwise costs for disparity matching via message passing in the forward direction.\n",
    "\n",
    "    Returns:\n",
    "        Pairwise costs in the forward direction for all considered disparities as numpy array\n",
    "        of shape (h,w,max_disp).\n",
    "    \"\"\"\n",
    "    h, w , _ = unary_costs.shape\n",
    "    msgs = np.zeros((h,w, max_disp))\n",
    "    # START TODO ################\n",
    "    # Compute forward messages\n",
    "    raise NotImplementedError\n",
    "    # END TODO ################\n",
    "    return msgs\n",
    "\n",
    "\n",
    "def compute_msg_bwd(unary_costs, max_disp=MAX_DISP):\n",
    "    \"\"\"\n",
    "    Computes pairwise costs for disparity matching via message passing in the backward direction.\n",
    "\n",
    "    Returns:\n",
    "        Pairwise costs in the backward direction for all considered disparities as numpy array\n",
    "        of shape (h,w,max_disp).\n",
    "    \"\"\"\n",
    "    h, w , _ = unary_costs.shape\n",
    "    msgs = np.zeros((h,w, max_disp))\n",
    "    # START TODO ################\n",
    "    # Compute backward messages\n",
    "    raise NotImplementedError\n",
    "    # END TODO ################\n",
    "    return msgs\n",
    "\n",
    "\n",
    "def compute_disparity(imgL, imgR):\n",
    "    \"\"\"\n",
    "    Computes the disparity between two images via message passing.\n",
    "\n",
    "    Args:\n",
    "        imgL: Left image as numpy array with shape (h,w,3).\n",
    "        imgL: Right image as numpy array with shape (h,w,3).\n",
    "\n",
    "    Returns:\n",
    "        Disparity between two images as numpy array with shape (h,w).\n",
    "    \"\"\"\n",
    "    h , w,_ = imgL.shape\n",
    "    imgL = imgL.astype(np.float32)\n",
    "    imgR = imgR.astype(np.float32)\n",
    "\n",
    "    print(\"Precomputing data costs:\")\n",
    "    with Timer():\n",
    "        unary_costs = compute_unary_costs(imgL, imgR)\n",
    "\n",
    "    print(\"Precomputing forward messages:\")\n",
    "    with Timer():\n",
    "        msg_fwd = compute_msg_fwd(unary_costs)\n",
    "    print(\"Precomputing backward messages:\")\n",
    "    with Timer():\n",
    "        msg_bwd = compute_msg_bwd(unary_costs)\n",
    "\n",
    "    print(\"Computing disparity map:\")\n",
    "    with Timer():\n",
    "        cost = unary_costs + msg_fwd + msg_bwd\n",
    "        disparity_map = cost.argmin(axis=-1)\n",
    "    return disparity_map\n",
    "\n",
    "\n",
    "def show_disparity_map(disparity_map):\n",
    "    plt.imshow(disparity_map)\n",
    "    plt.colorbar()\n",
    "    plt.axis(\"off\")\n"
   ]
  },
  {
   "cell_type": "markdown",
   "metadata": {},
   "source": [
    "### Compute disparity map without belief propagation\n"
   ]
  },
  {
   "cell_type": "code",
   "execution_count": null,
   "metadata": {
    "scrolled": true
   },
   "outputs": [],
   "source": [
    "data_cost = compute_unary_costs(imgL, imgR)\n",
    "disparity_map = data_cost.argmin(axis=-1)\n",
    "show_disparity_map(disparity_map)\n"
   ]
  },
  {
   "cell_type": "markdown",
   "metadata": {},
   "source": [
    "### Now compute disparity map with belief propagation\n"
   ]
  },
  {
   "cell_type": "code",
   "execution_count": null,
   "metadata": {},
   "outputs": [],
   "source": [
    "disparity_map = compute_disparity(imgL, imgR)\n",
    "show_disparity_map(disparity_map)\n"
   ]
  },
  {
   "cell_type": "markdown",
   "metadata": {},
   "source": [
    "### Some things to explore further\n",
    "\n",
    "* Vectorize the solution and measure speedup or even implement in it C/C++. \n",
    "* Play around  with regularization term. \n",
    "* Play around with the data term.\n"
   ]
  },
  {
   "cell_type": "code",
   "execution_count": null,
   "metadata": {},
   "outputs": [],
   "source": []
  }
 ],
 "metadata": {
  "kernelspec": {
   "display_name": "Python 3 (ipykernel)",
   "language": "python",
   "name": "python3"
  },
  "language_info": {
   "codemirror_mode": {
    "name": "ipython",
    "version": 3
   },
   "file_extension": ".py",
   "mimetype": "text/x-python",
   "name": "python",
   "nbconvert_exporter": "python",
   "pygments_lexer": "ipython3",
   "version": "3.10.13"
  }
 },
 "nbformat": 4,
 "nbformat_minor": 4
}
